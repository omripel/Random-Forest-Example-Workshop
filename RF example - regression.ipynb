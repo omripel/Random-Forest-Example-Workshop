{
 "cells": [
  {
   "cell_type": "code",
   "execution_count": 1,
   "id": "2e4616ab",
   "metadata": {},
   "outputs": [],
   "source": [
    "from sklearn import ensemble\n",
    "from sklearn import metrics\n",
    "import pandas as pd\n",
    "import numpy as np\n",
    "from IPython.display import display\n"
   ]
  },
  {
   "cell_type": "markdown",
   "id": "775985bd",
   "metadata": {},
   "source": [
    "## Creating samples"
   ]
  },
  {
   "cell_type": "code",
   "execution_count": 2,
   "id": "766a9bff",
   "metadata": {},
   "outputs": [
    {
     "name": "stderr",
     "output_type": "stream",
     "text": [
      "C:\\Users\\Omri\\AppData\\Local\\Temp\\ipykernel_18340\\213745372.py:13: RuntimeWarning: covariance is not positive-semidefinite.\n",
      "  samples = np.random.multivariate_normal([0 for i in range(num_of_features + 1)], cov_mat, n_samples)\n"
     ]
    }
   ],
   "source": [
    "np.random.seed(0)\n",
    "num_of_features = 10\n",
    "n_samples = 100\n",
    "\n",
    "\n",
    "#Generating covariance matrix all features and labels are drawn from multivariate normal distribution\n",
    "#covariance between each pair is a random variable between -0.5 and 0.5 and the variance of each variable is 1\n",
    "cov_mat = np.array([[np.random.uniform(0, 1) if i != j else 1 for j in range(num_of_features + 1)] \n",
    "                    for i in range(num_of_features + 1)])\n",
    "cov_mat = (cov_mat + cov_mat.T) /2\n",
    "\n",
    "#creating the samples mean for every feature is 0\n",
    "samples = np.random.multivariate_normal([0 for i in range(num_of_features + 1)], cov_mat, n_samples)\n",
    "\n",
    "#last column in the samples matrix represents the labels\n",
    "labels = samples[:, -1]\n",
    "features = samples[:, :-1]\n"
   ]
  },
  {
   "cell_type": "markdown",
   "id": "dcd64fc4",
   "metadata": {},
   "source": [
    "## Training the regressor"
   ]
  },
  {
   "cell_type": "code",
   "execution_count": 3,
   "id": "418e1cd3",
   "metadata": {},
   "outputs": [
    {
     "name": "stdout",
     "output_type": "stream",
     "text": [
      "oob score 0.426511\n"
     ]
    },
    {
     "data": {
      "text/html": [
       "<div>\n",
       "<style scoped>\n",
       "    .dataframe tbody tr th:only-of-type {\n",
       "        vertical-align: middle;\n",
       "    }\n",
       "\n",
       "    .dataframe tbody tr th {\n",
       "        vertical-align: top;\n",
       "    }\n",
       "\n",
       "    .dataframe thead th {\n",
       "        text-align: right;\n",
       "    }\n",
       "</style>\n",
       "<table border=\"1\" class=\"dataframe\">\n",
       "  <thead>\n",
       "    <tr style=\"text-align: right;\">\n",
       "      <th></th>\n",
       "      <th>importance</th>\n",
       "      <th>cov</th>\n",
       "    </tr>\n",
       "  </thead>\n",
       "  <tbody>\n",
       "    <tr>\n",
       "      <th>4</th>\n",
       "      <td>0.061234</td>\n",
       "      <td>0.306232</td>\n",
       "    </tr>\n",
       "    <tr>\n",
       "      <th>6</th>\n",
       "      <td>0.072032</td>\n",
       "      <td>0.344070</td>\n",
       "    </tr>\n",
       "    <tr>\n",
       "      <th>7</th>\n",
       "      <td>0.057381</td>\n",
       "      <td>0.345490</td>\n",
       "    </tr>\n",
       "    <tr>\n",
       "      <th>5</th>\n",
       "      <td>0.113249</td>\n",
       "      <td>0.410291</td>\n",
       "    </tr>\n",
       "    <tr>\n",
       "      <th>9</th>\n",
       "      <td>0.070864</td>\n",
       "      <td>0.478722</td>\n",
       "    </tr>\n",
       "    <tr>\n",
       "      <th>0</th>\n",
       "      <td>0.041680</td>\n",
       "      <td>0.530629</td>\n",
       "    </tr>\n",
       "    <tr>\n",
       "      <th>1</th>\n",
       "      <td>0.086738</td>\n",
       "      <td>0.570010</td>\n",
       "    </tr>\n",
       "    <tr>\n",
       "      <th>2</th>\n",
       "      <td>0.150905</td>\n",
       "      <td>0.574928</td>\n",
       "    </tr>\n",
       "    <tr>\n",
       "      <th>8</th>\n",
       "      <td>0.126311</td>\n",
       "      <td>0.576189</td>\n",
       "    </tr>\n",
       "    <tr>\n",
       "      <th>3</th>\n",
       "      <td>0.219607</td>\n",
       "      <td>0.822004</td>\n",
       "    </tr>\n",
       "  </tbody>\n",
       "</table>\n",
       "</div>"
      ],
      "text/plain": [
       "   importance       cov\n",
       "4    0.061234  0.306232\n",
       "6    0.072032  0.344070\n",
       "7    0.057381  0.345490\n",
       "5    0.113249  0.410291\n",
       "9    0.070864  0.478722\n",
       "0    0.041680  0.530629\n",
       "1    0.086738  0.570010\n",
       "2    0.150905  0.574928\n",
       "8    0.126311  0.576189\n",
       "3    0.219607  0.822004"
      ]
     },
     "metadata": {},
     "output_type": "display_data"
    },
    {
     "data": {
      "text/html": [
       "<div>\n",
       "<style scoped>\n",
       "    .dataframe tbody tr th:only-of-type {\n",
       "        vertical-align: middle;\n",
       "    }\n",
       "\n",
       "    .dataframe tbody tr th {\n",
       "        vertical-align: top;\n",
       "    }\n",
       "\n",
       "    .dataframe thead th {\n",
       "        text-align: right;\n",
       "    }\n",
       "</style>\n",
       "<table border=\"1\" class=\"dataframe\">\n",
       "  <thead>\n",
       "    <tr style=\"text-align: right;\">\n",
       "      <th></th>\n",
       "      <th>importance</th>\n",
       "      <th>cov</th>\n",
       "    </tr>\n",
       "  </thead>\n",
       "  <tbody>\n",
       "    <tr>\n",
       "      <th>importance</th>\n",
       "      <td>1.000000</td>\n",
       "      <td>0.791457</td>\n",
       "    </tr>\n",
       "    <tr>\n",
       "      <th>cov</th>\n",
       "      <td>0.791457</td>\n",
       "      <td>1.000000</td>\n",
       "    </tr>\n",
       "  </tbody>\n",
       "</table>\n",
       "</div>"
      ],
      "text/plain": [
       "            importance       cov\n",
       "importance    1.000000  0.791457\n",
       "cov           0.791457  1.000000"
      ]
     },
     "metadata": {},
     "output_type": "display_data"
    }
   ],
   "source": [
    "#model initialization\n",
    "mod = ensemble.RandomForestRegressor(n_estimators=100, max_depth=None, \n",
    "                                        min_samples_split=2, min_samples_leaf=1, \n",
    "                                        min_weight_fraction_leaf=0.0, max_features='sqrt', max_leaf_nodes=None, \n",
    "                                        bootstrap=True, oob_score=True, n_jobs=None, random_state=0, verbose=0)\n",
    "\n",
    "#training. We will use 70% of the data\n",
    "mod.fit(features[:int(n_samples * 0.7)], labels[:int(n_samples * 0.7)])\n",
    "##oob\n",
    "print(\"oob score %f\" %mod.oob_score_)\n",
    "\n",
    "#correlation between feature importance and the correlation with the label\n",
    "import_df = pd.DataFrame()\n",
    "import_df[\"importance\"] = mod.feature_importances_\n",
    "import_df[\"cov\"] = cov_mat[-1, :-1]\n",
    "display(import_df.sort_values(by = \"cov\"))\n",
    "\n",
    "display(import_df.corr())"
   ]
  },
  {
   "cell_type": "markdown",
   "id": "5fa94ae7",
   "metadata": {},
   "source": [
    "## Testing"
   ]
  },
  {
   "cell_type": "code",
   "execution_count": 4,
   "id": "23e2806c",
   "metadata": {},
   "outputs": [
    {
     "data": {
      "text/plain": [
       "0.4273566652560767"
      ]
     },
     "execution_count": 4,
     "metadata": {},
     "output_type": "execute_result"
    }
   ],
   "source": [
    "metrics.mean_squared_error(labels[int(n_samples * 0.7):], mod.predict(features[int(n_samples * 0.7):]))\n"
   ]
  },
  {
   "cell_type": "code",
   "execution_count": null,
   "id": "99abb99e",
   "metadata": {},
   "outputs": [],
   "source": []
  }
 ],
 "metadata": {
  "kernelspec": {
   "display_name": "Python 3 (ipykernel)",
   "language": "python",
   "name": "python3"
  },
  "language_info": {
   "codemirror_mode": {
    "name": "ipython",
    "version": 3
   },
   "file_extension": ".py",
   "mimetype": "text/x-python",
   "name": "python",
   "nbconvert_exporter": "python",
   "pygments_lexer": "ipython3",
   "version": "3.9.13"
  }
 },
 "nbformat": 4,
 "nbformat_minor": 5
}
