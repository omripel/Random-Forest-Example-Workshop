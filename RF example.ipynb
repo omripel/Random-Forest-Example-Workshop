{
 "cells": [
  {
   "cell_type": "code",
   "execution_count": 1,
   "id": "2e4616ab",
   "metadata": {},
   "outputs": [],
   "source": [
    "from sklearn import ensemble\n",
    "from sklearn import metrics\n",
    "import pandas as pd\n",
    "import numpy as np\n",
    "from IPython.display import display\n"
   ]
  },
  {
   "cell_type": "markdown",
   "id": "775985bd",
   "metadata": {},
   "source": [
    "## Creating samples"
   ]
  },
  {
   "cell_type": "code",
   "execution_count": 2,
   "id": "766a9bff",
   "metadata": {},
   "outputs": [
    {
     "name": "stdout",
     "output_type": "stream",
     "text": [
      "proportion of positives is 0.315000\n"
     ]
    },
    {
     "name": "stderr",
     "output_type": "stream",
     "text": [
      "C:\\Users\\Omri\\AppData\\Local\\Temp\\ipykernel_25724\\274756158.py:14: RuntimeWarning: covariance is not positive-semidefinite.\n",
      "  samples = np.random.multivariate_normal([0 for i in range(num_of_features + 1)], cov_mat, n_samples)\n"
     ]
    }
   ],
   "source": [
    "np.random.seed(0)\n",
    "num_of_features = 15\n",
    "n_samples = 1000\n",
    "\n",
    "threshold = .5\n",
    "\n",
    "#Generating covariance matrix all features and labels are drawn from multivariate normal distribution\n",
    "#covariance between each pair is a random variable between -0.5 and 0.5 and the variance of each variable is 1\n",
    "cov_mat = np.array([[np.random.uniform(0, 1) if i != j else 1 for j in range(num_of_features + 1)] \n",
    "                    for i in range(num_of_features + 1)])\n",
    "cov_mat = (cov_mat + cov_mat.T) /2\n",
    "\n",
    "#creating the samples mean for every feature is 0\n",
    "samples = np.random.multivariate_normal([0 for i in range(num_of_features + 1)], cov_mat, n_samples)\n",
    "\n",
    "#last column in the samples matrix represents the labels\n",
    "labels = samples[:, -1]\n",
    "##if label > threshold the label is 1\n",
    "labels = labels > threshold\n",
    "features = samples[:, :-1]\n",
    "\n",
    "print(\"proportion of positives is %f\" %(labels.sum() / labels.shape[0]))\n"
   ]
  },
  {
   "cell_type": "markdown",
   "id": "dcd64fc4",
   "metadata": {},
   "source": [
    "## Training the classifier"
   ]
  },
  {
   "cell_type": "code",
   "execution_count": 3,
   "id": "418e1cd3",
   "metadata": {},
   "outputs": [
    {
     "name": "stdout",
     "output_type": "stream",
     "text": [
      "oob score 0.747143\n"
     ]
    },
    {
     "data": {
      "text/html": [
       "<div>\n",
       "<style scoped>\n",
       "    .dataframe tbody tr th:only-of-type {\n",
       "        vertical-align: middle;\n",
       "    }\n",
       "\n",
       "    .dataframe tbody tr th {\n",
       "        vertical-align: top;\n",
       "    }\n",
       "\n",
       "    .dataframe thead th {\n",
       "        text-align: right;\n",
       "    }\n",
       "</style>\n",
       "<table border=\"1\" class=\"dataframe\">\n",
       "  <thead>\n",
       "    <tr style=\"text-align: right;\">\n",
       "      <th></th>\n",
       "      <th>importance</th>\n",
       "      <th>cov</th>\n",
       "    </tr>\n",
       "  </thead>\n",
       "  <tbody>\n",
       "    <tr>\n",
       "      <th>0</th>\n",
       "      <td>0.051198</td>\n",
       "      <td>0.511914</td>\n",
       "    </tr>\n",
       "    <tr>\n",
       "      <th>1</th>\n",
       "      <td>0.085670</td>\n",
       "      <td>0.551075</td>\n",
       "    </tr>\n",
       "    <tr>\n",
       "      <th>2</th>\n",
       "      <td>0.049257</td>\n",
       "      <td>0.441137</td>\n",
       "    </tr>\n",
       "    <tr>\n",
       "      <th>3</th>\n",
       "      <td>0.062813</td>\n",
       "      <td>0.595898</td>\n",
       "    </tr>\n",
       "    <tr>\n",
       "      <th>4</th>\n",
       "      <td>0.098846</td>\n",
       "      <td>0.735060</td>\n",
       "    </tr>\n",
       "    <tr>\n",
       "      <th>5</th>\n",
       "      <td>0.099252</td>\n",
       "      <td>0.591619</td>\n",
       "    </tr>\n",
       "    <tr>\n",
       "      <th>6</th>\n",
       "      <td>0.052155</td>\n",
       "      <td>0.231033</td>\n",
       "    </tr>\n",
       "    <tr>\n",
       "      <th>7</th>\n",
       "      <td>0.095432</td>\n",
       "      <td>0.605366</td>\n",
       "    </tr>\n",
       "    <tr>\n",
       "      <th>8</th>\n",
       "      <td>0.054748</td>\n",
       "      <td>0.297814</td>\n",
       "    </tr>\n",
       "    <tr>\n",
       "      <th>9</th>\n",
       "      <td>0.052637</td>\n",
       "      <td>0.603159</td>\n",
       "    </tr>\n",
       "    <tr>\n",
       "      <th>10</th>\n",
       "      <td>0.081857</td>\n",
       "      <td>0.700103</td>\n",
       "    </tr>\n",
       "    <tr>\n",
       "      <th>11</th>\n",
       "      <td>0.046819</td>\n",
       "      <td>0.203004</td>\n",
       "    </tr>\n",
       "    <tr>\n",
       "      <th>12</th>\n",
       "      <td>0.076799</td>\n",
       "      <td>0.601563</td>\n",
       "    </tr>\n",
       "    <tr>\n",
       "      <th>13</th>\n",
       "      <td>0.046251</td>\n",
       "      <td>0.587150</td>\n",
       "    </tr>\n",
       "    <tr>\n",
       "      <th>14</th>\n",
       "      <td>0.046267</td>\n",
       "      <td>0.386210</td>\n",
       "    </tr>\n",
       "  </tbody>\n",
       "</table>\n",
       "</div>"
      ],
      "text/plain": [
       "    importance       cov\n",
       "0     0.051198  0.511914\n",
       "1     0.085670  0.551075\n",
       "2     0.049257  0.441137\n",
       "3     0.062813  0.595898\n",
       "4     0.098846  0.735060\n",
       "5     0.099252  0.591619\n",
       "6     0.052155  0.231033\n",
       "7     0.095432  0.605366\n",
       "8     0.054748  0.297814\n",
       "9     0.052637  0.603159\n",
       "10    0.081857  0.700103\n",
       "11    0.046819  0.203004\n",
       "12    0.076799  0.601563\n",
       "13    0.046251  0.587150\n",
       "14    0.046267  0.386210"
      ]
     },
     "metadata": {},
     "output_type": "display_data"
    },
    {
     "data": {
      "text/html": [
       "<div>\n",
       "<style scoped>\n",
       "    .dataframe tbody tr th:only-of-type {\n",
       "        vertical-align: middle;\n",
       "    }\n",
       "\n",
       "    .dataframe tbody tr th {\n",
       "        vertical-align: top;\n",
       "    }\n",
       "\n",
       "    .dataframe thead th {\n",
       "        text-align: right;\n",
       "    }\n",
       "</style>\n",
       "<table border=\"1\" class=\"dataframe\">\n",
       "  <thead>\n",
       "    <tr style=\"text-align: right;\">\n",
       "      <th></th>\n",
       "      <th>importance</th>\n",
       "      <th>cov</th>\n",
       "    </tr>\n",
       "  </thead>\n",
       "  <tbody>\n",
       "    <tr>\n",
       "      <th>importance</th>\n",
       "      <td>1.000000</td>\n",
       "      <td>0.646044</td>\n",
       "    </tr>\n",
       "    <tr>\n",
       "      <th>cov</th>\n",
       "      <td>0.646044</td>\n",
       "      <td>1.000000</td>\n",
       "    </tr>\n",
       "  </tbody>\n",
       "</table>\n",
       "</div>"
      ],
      "text/plain": [
       "            importance       cov\n",
       "importance    1.000000  0.646044\n",
       "cov           0.646044  1.000000"
      ]
     },
     "metadata": {},
     "output_type": "display_data"
    }
   ],
   "source": [
    "#model initialization\n",
    "mod = ensemble.RandomForestClassifier(n_estimators=100, max_depth=None, \n",
    "                                        min_samples_split=2, min_samples_leaf=1, \n",
    "                                        min_weight_fraction_leaf=0.0, max_features='sqrt', max_leaf_nodes=None, \n",
    "                                        bootstrap=True, oob_score=True, n_jobs=None, random_state=0, verbose=0)\n",
    "\n",
    "#training. We will use 70% of the data\n",
    "mod.fit(features[:int(n_samples * 0.7)], labels[:int(n_samples * 0.7)])\n",
    "##oob\n",
    "print(\"oob score %f\" %mod.oob_score_)\n",
    "\n",
    "#correlation between feature importance and the correlation with the label\n",
    "import_df = pd.DataFrame()\n",
    "import_df[\"importance\"] = mod.feature_importances_\n",
    "import_df[\"cov\"] = cov_mat[-1, :-1]\n",
    "display(import_df)\n",
    "\n",
    "display(import_df.corr())"
   ]
  },
  {
   "cell_type": "markdown",
   "id": "5fa94ae7",
   "metadata": {},
   "source": [
    "## Testing"
   ]
  },
  {
   "cell_type": "code",
   "execution_count": 4,
   "id": "23e2806c",
   "metadata": {},
   "outputs": [
    {
     "data": {
      "text/plain": [
       "0.7466666666666667"
      ]
     },
     "execution_count": 4,
     "metadata": {},
     "output_type": "execute_result"
    }
   ],
   "source": [
    "metrics.accuracy_score(labels[int(n_samples * 0.7):], mod.predict(features[int(n_samples * 0.7):]))\n"
   ]
  }
 ],
 "metadata": {
  "kernelspec": {
   "display_name": "Python 3 (ipykernel)",
   "language": "python",
   "name": "python3"
  },
  "language_info": {
   "codemirror_mode": {
    "name": "ipython",
    "version": 3
   },
   "file_extension": ".py",
   "mimetype": "text/x-python",
   "name": "python",
   "nbconvert_exporter": "python",
   "pygments_lexer": "ipython3",
   "version": "3.9.13"
  }
 },
 "nbformat": 4,
 "nbformat_minor": 5
}
